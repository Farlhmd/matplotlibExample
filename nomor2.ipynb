{
 "cells": [
  {
   "cell_type": "code",
   "execution_count": 1,
   "metadata": {},
   "outputs": [],
   "source": [
    "import matplotlib.pyplot as plt\n",
    "import numpy as np\n",
    "import pandas as pd\n",
    "\n",
    "from pandas import DataFrame"
   ]
  },
  {
   "cell_type": "code",
   "execution_count": 22,
   "metadata": {},
   "outputs": [],
   "source": [
    "# lst = pd.read_html('https://bps.go.id/indicator/8/1754/1/nilai-impor-migas-nonmigas.html')\n",
    "df = pd.read_excel('table.xlsx', index_col=0)\n",
    "transPose = df.T"
   ]
  },
  {
   "cell_type": "code",
   "execution_count": 23,
   "metadata": {},
   "outputs": [
    {
     "name": "stdout",
     "output_type": "stream",
     "text": [
      "Januari\n",
      "1987.1\n",
      "Februari\n",
      "1747.6\n",
      "Maret\n",
      "1606.6\n",
      "April\n",
      "854.3\n",
      "Mei\n",
      "657.5\n",
      "Juni\n",
      "677.1\n",
      "Juli\n",
      "958.2\n",
      "Agustus\n",
      "949.8\n",
      "['Januari', 'Februari', 'Maret', 'April', 'Mei', 'Juni', 'Juli', 'Agustus']\n",
      "[1987.1, 1747.6, 1606.6, 854.3, 657.5, 677.1, 958.2, 949.8]\n"
     ]
    },
    {
     "data": {
      "image/png": "[encoded data removed]",
      "text/plain": [
       "<Figure size 432x288 with 1 Axes>"
      ]
     },
     "metadata": {
      "needs_background": "light"
     },
     "output_type": "display_data"
    }
   ],
   "source": [
    "hasilX = []\n",
    "hasilY = []\n",
    "\n",
    "for bulan in range(0,8):\n",
    "    \n",
    "    nmBulan = str(df.columns[bulan])\n",
    "    nilaiMigas = transPose.Migas.iloc[bulan]\n",
    "    hasilX.append(nmBulan)\n",
    "    hasilY.append(nilaiMigas)\n",
    "    print(nmBulan)\n",
    "    print(nilaiMigas)\n",
    "    \n",
    "print(hasilX)\n",
    "print(hasilY)\n",
    "# Grafik Batang :\n",
    "plt.bar(hasilX, hasilY) \n",
    "# Scatter plot :\n",
    "# plt.scatter(hasilX, hasilY)\n",
    "plt.show()"
   ]
  },
  {
   "cell_type": "code",
   "execution_count": null,
   "metadata": {},
   "outputs": [],
   "source": []
  },
  {
   "cell_type": "code",
   "execution_count": null,
   "metadata": {},
   "outputs": [],
   "source": []
  },
  {
   "cell_type": "code",
   "execution_count": null,
   "metadata": {},
   "outputs": [],
   "source": []
  }
 ],
 "metadata": {
  "kernelspec": {
   "display_name": "Python 3",
   "language": "python",
   "name": "python3"
  },
  "language_info": {
   "codemirror_mode": {
    "name": "ipython",
    "version": 3
   },
   "file_extension": ".py",
   "mimetype": "text/x-python",
   "name": "python",
   "nbconvert_exporter": "python",
   "pygments_lexer": "ipython3",
   "version": "3.7.7"
  }
 },
 "nbformat": 4,
 "nbformat_minor": 4
}